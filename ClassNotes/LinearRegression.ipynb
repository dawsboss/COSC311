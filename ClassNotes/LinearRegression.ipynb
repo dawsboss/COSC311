{
 "cells": [
  {
   "cell_type": "markdown",
   "metadata": {},
   "source": [
    "# Linear Regression Example"
   ]
  },
  {
   "cell_type": "code",
   "execution_count": 49,
   "metadata": {},
   "outputs": [],
   "source": [
    "import numpy as np\n",
    "\n",
    "def loss(alpha, beta, xi, yi):\n",
    "    #print(xi*beta + alpha - yi)\n",
    "    return xi*beta + alpha - yi\n",
    "\n",
    "def step(start, grad, rate):\n",
    "    return np.array(start) - np.array(grad) * rate\n",
    "\n",
    "# samples is a list of (x,y) points\n",
    "def linear_reg(samples):\n",
    "    iters = 10000\n",
    "    gamma = 0.001\n",
    "    alpha, beta  = 2, 5\n",
    "    \n",
    "    for _ in range(iters):\n",
    "        grad_b = np.sum([2*xi*loss(alpha, beta, xi, yi) for (xi, yi) in samples ])\n",
    "        grad_a = np.sum([2*loss(alpha, beta, xi, yi) for (xi, yi) in samples ])\n",
    "        res = step([alpha, beta], [grad_a, grad_b], gamma)\n",
    "        alpha = res[0]\n",
    "        beta = res[1]\n",
    "        \n",
    "    return [alpha, beta]"
   ]
  },
  {
   "cell_type": "code",
   "execution_count": 52,
   "metadata": {},
   "outputs": [],
   "source": [
    "s = [(i,3*i+ 4) for i in range(0,10)]"
   ]
  },
  {
   "cell_type": "code",
   "execution_count": 53,
   "metadata": {},
   "outputs": [
    {
     "data": {
      "text/plain": [
       "[3.9999999999999556, 3.0000000000000075]"
      ]
     },
     "execution_count": 53,
     "metadata": {},
     "output_type": "execute_result"
    }
   ],
   "source": [
    "linear_reg(s)"
   ]
  },
  {
   "cell_type": "code",
   "execution_count": null,
   "metadata": {},
   "outputs": [],
   "source": []
  }
 ],
 "metadata": {
  "kernelspec": {
   "display_name": "Python 3",
   "language": "python",
   "name": "python3"
  },
  "language_info": {
   "codemirror_mode": {
    "name": "ipython",
    "version": 3
   },
   "file_extension": ".py",
   "mimetype": "text/x-python",
   "name": "python",
   "nbconvert_exporter": "python",
   "pygments_lexer": "ipython3",
   "version": "3.6.7"
  }
 },
 "nbformat": 4,
 "nbformat_minor": 2
}

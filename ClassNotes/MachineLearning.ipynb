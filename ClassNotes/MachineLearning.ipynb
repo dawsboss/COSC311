{
 "cells": [
  {
   "cell_type": "markdown",
   "metadata": {},
   "source": [
    "# (Statistical) Machine Learning\n",
    "\n",
    "(not neural networks/deep learning (yet))\n",
    "\n",
    "Two categories:\n",
    "1. Supervised\n",
    "  - We see examples with _labels_ and _features_\n",
    "  - We want to be able to take an _unlabeled_ sample and determine the proper label from its features\n",
    "2. Unsupervised\n",
    "  - Samples do not come with labels\n",
    "  - Instead, we want to \"learn\" or derive some parameter of the source population\n",
    "  \n",
    "Workflow:\n",
    "- Separate data into testing and training\n",
    "- Train a model on the training data\n",
    "- Test the model on the testing data\n",
    "    - use results to evaluate the model and change if needed\n",
    "- Sometimes, use a final validation set to test the final model"
   ]
  },
  {
   "cell_type": "code",
   "execution_count": null,
   "metadata": {},
   "outputs": [],
   "source": []
  }
 ],
 "metadata": {
  "kernelspec": {
   "display_name": "Python 3",
   "language": "python",
   "name": "python3"
  },
  "language_info": {
   "codemirror_mode": {
    "name": "ipython",
    "version": 3
   },
   "file_extension": ".py",
   "mimetype": "text/x-python",
   "name": "python",
   "nbconvert_exporter": "python",
   "pygments_lexer": "ipython3",
   "version": "3.6.7"
  }
 },
 "nbformat": 4,
 "nbformat_minor": 2
}

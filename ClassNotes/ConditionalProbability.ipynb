{
 "cells": [
  {
   "cell_type": "code",
   "execution_count": 5,
   "metadata": {},
   "outputs": [],
   "source": [
    "import numpy as dumpy\n",
    "import numpy as np\n",
    "import numpy\n",
    "import importlib # needed to reload a module"
   ]
  },
  {
   "cell_type": "code",
   "execution_count": 13,
   "metadata": {},
   "outputs": [
    {
     "data": {
      "text/plain": [
       "<module 'diseasetests' from '/home/jovyan/cosc311/fa20/diseasetests.py'>"
      ]
     },
     "execution_count": 13,
     "metadata": {},
     "output_type": "execute_result"
    }
   ],
   "source": [
    "# runs the diseasetests.py and puts the results into a namespace called diseasetests\n",
    "import diseasetests as dt\n",
    "importlib.reload(dt) # reload to get the new defs"
   ]
  },
  {
   "cell_type": "code",
   "execution_count": 14,
   "metadata": {},
   "outputs": [
    {
     "data": {
      "text/plain": [
       "['Person',\n",
       " '__builtins__',\n",
       " '__cached__',\n",
       " '__doc__',\n",
       " '__file__',\n",
       " '__loader__',\n",
       " '__name__',\n",
       " '__package__',\n",
       " '__spec__',\n",
       " 'blah',\n",
       " 'np']"
      ]
     },
     "execution_count": 14,
     "metadata": {},
     "output_type": "execute_result"
    }
   ],
   "source": [
    "dir(dt)"
   ]
  },
  {
   "cell_type": "code",
   "execution_count": 15,
   "metadata": {},
   "outputs": [
    {
     "name": "stdout",
     "output_type": "stream",
     "text": [
      "HERE !!!\n"
     ]
    }
   ],
   "source": [
    "dt.blah()"
   ]
  },
  {
   "cell_type": "code",
   "execution_count": 16,
   "metadata": {},
   "outputs": [
    {
     "name": "stdout",
     "output_type": "stream",
     "text": [
      "Number of positive tests: (1078,)\n",
      "Number of actual positives: 9\n"
     ]
    }
   ],
   "source": [
    "people = [dt.Person() for i in range(1,100000)]\n",
    "tests = np.array([0 for person in people])\n",
    "count = 0\n",
    "for (index,person) in enumerate(people):\n",
    "    if person.hasDisease:\n",
    "        count += 1\n",
    "        tests[index] = np.random.choice([1,0], p=[99/100, 1/100])\n",
    "    else:\n",
    "        tests[index] = np.random.choice([1,0], p=[1/100, 99/100])\n",
    "\n",
    "print(f\"Number of positive tests: {tests[tests==1].shape}\")\n",
    "print(f\"Number of actual positives: {count}\")"
   ]
  },
  {
   "cell_type": "code",
   "execution_count": null,
   "metadata": {},
   "outputs": [],
   "source": []
  },
  {
   "cell_type": "code",
   "execution_count": null,
   "metadata": {},
   "outputs": [],
   "source": []
  }
 ],
 "metadata": {
  "kernelspec": {
   "display_name": "Python 3",
   "language": "python",
   "name": "python3"
  },
  "language_info": {
   "codemirror_mode": {
    "name": "ipython",
    "version": 3
   },
   "file_extension": ".py",
   "mimetype": "text/x-python",
   "name": "python",
   "nbconvert_exporter": "python",
   "pygments_lexer": "ipython3",
   "version": "3.6.7"
  }
 },
 "nbformat": 4,
 "nbformat_minor": 2
}

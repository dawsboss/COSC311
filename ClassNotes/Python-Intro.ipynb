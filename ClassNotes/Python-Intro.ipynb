{
 "cells": [
  {
   "cell_type": "markdown",
   "metadata": {},
   "source": [
    "# Python Basics\n",
    "\n",
    "## For programmers coming from C/C++\n",
    "\n",
    "As we discussed, Python is a _dynamically typed_, _interpreted_ language.\n",
    "This document will serve as a \"starter\" for a quick crash-course through the \"zen\" of Python.\n",
    "For further basis, consult the DSFS textbook by Joel Grus, and other course resources."
   ]
  },
  {
   "cell_type": "code",
   "execution_count": 3,
   "metadata": {},
   "outputs": [
    {
     "name": "stdout",
     "output_type": "stream",
     "text": [
      "10\n",
      "hello, world!\n"
     ]
    }
   ],
   "source": [
    "# NB: pound signs start a comment\n",
    "# no boilerplate necessary, just start typing Python!\n",
    "a = 10\n",
    "print(a)\n",
    "a = \"hello, world!\" # a just changed types!\n",
    "print(a)"
   ]
  },
  {
   "cell_type": "markdown",
   "metadata": {},
   "source": [
    "Looking at the code above, we can also see that the syntax (so far) is rougly similar to C/C++/Java and other languages. Note the lack of semicolons and type annotations."
   ]
  },
  {
   "cell_type": "markdown",
   "metadata": {},
   "source": [
    "## TODO:\n",
    "- [x] whitespace-based formatting\n",
    "    - [ ] conditionals\n",
    "    - [ ] multi-line code\n",
    "- [ ] looping\n",
    "- [ ] functions\n",
    "- [ ] strings\n",
    "- [ ] exceptions\n",
    "- [ ] lists\n",
    "- [ ] tuples\n",
    "- [ ] dictionaries"
   ]
  },
  {
   "cell_type": "code",
   "execution_count": 9,
   "metadata": {},
   "outputs": [],
   "source": [
    "a = 10\n",
    "a;"
   ]
  },
  {
   "cell_type": "code",
   "execution_count": 13,
   "metadata": {},
   "outputs": [],
   "source": [
    "a,b = 10, 5"
   ]
  },
  {
   "cell_type": "code",
   "execution_count": 28,
   "metadata": {},
   "outputs": [],
   "source": [
    "a, _ = 11, 5 # disards values"
   ]
  },
  {
   "cell_type": "code",
   "execution_count": 29,
   "metadata": {},
   "outputs": [],
   "source": [
    "a = 5"
   ]
  },
  {
   "cell_type": "code",
   "execution_count": 33,
   "metadata": {},
   "outputs": [
    {
     "name": "stdout",
     "output_type": "stream",
     "text": [
      "a is 5\n"
     ]
    }
   ],
   "source": [
    "if a is 10: # \"is\" plays the role of ==\n",
    "    print(\"a is 10\")\n",
    "elif a is 5:\n",
    "    print(\"a is 5\")\n",
    "else:\n",
    "    print(\"a is not 5 or 10\")"
   ]
  },
  {
   "cell_type": "markdown",
   "metadata": {},
   "source": [
    "## Lists"
   ]
  },
  {
   "cell_type": "code",
   "execution_count": 53,
   "metadata": {},
   "outputs": [
    {
     "name": "stdout",
     "output_type": "stream",
     "text": [
      "[1, 5, 10]\n",
      "The length of a is 3\n",
      "The length of a is 3\n",
      "The length of a is 3\n",
      "The length of a is 3\n",
      "1\n",
      "5\n",
      "10\n"
     ]
    }
   ],
   "source": [
    "# \"arrays\" in Python are called \"lists\"\n",
    "# denote a list by [ ]\n",
    "a = [1, 5, 10]\n",
    "print(a)\n",
    "# NB: len is a built-in function to find the length of a list\n",
    "\n",
    "print(\"The length of a is \" + str(len(a)))\n",
    "print(\"The length of a is\", len(a))\n",
    "print(f\"The length of a is {len(a)}\")\n",
    "print(\"The length of a is {0}\".format(len(a)))\n",
    "\n",
    "for i in a:\n",
    "    print(i)"
   ]
  },
  {
   "cell_type": "code",
   "execution_count": 54,
   "metadata": {},
   "outputs": [
    {
     "name": "stdout",
     "output_type": "stream",
     "text": [
      "Positional arguments: 5 5\n"
     ]
    }
   ],
   "source": [
    "print(\"Positional arguments: {0} {0}\".format(5))"
   ]
  },
  {
   "cell_type": "code",
   "execution_count": 64,
   "metadata": {},
   "outputs": [
    {
     "name": "stdout",
     "output_type": "stream",
     "text": [
      "36\n"
     ]
    }
   ],
   "source": [
    "a = (1 + 2 + 3 + 4 + 5 \n",
    "       + 6 + 7 + 8)\n",
    "print(a)"
   ]
  },
  {
   "cell_type": "code",
   "execution_count": 66,
   "metadata": {},
   "outputs": [
    {
     "data": {
      "text/plain": [
       "'\\nYou can use triple-quote as a (sort of) block comment\\nBut, does get procesed, so \"costs\" something...|\\n'"
      ]
     },
     "execution_count": 66,
     "metadata": {},
     "output_type": "execute_result"
    }
   ],
   "source": [
    "\"\"\"\n",
    "You can use triple-quote as a (sort of) block comment\n",
    "But, does get procesed, so \"costs\" something...|\n",
    "\"\"\""
   ]
  },
  {
   "cell_type": "code",
   "execution_count": 68,
   "metadata": {},
   "outputs": [
    {
     "name": "stdout",
     "output_type": "stream",
     "text": [
      "[1, 23, 6, 8]\n"
     ]
    }
   ],
   "source": [
    "arr = [1, 23, 6, 8]\n",
    "print(arr)"
   ]
  },
  {
   "cell_type": "code",
   "execution_count": 77,
   "metadata": {},
   "outputs": [
    {
     "name": "stdout",
     "output_type": "stream",
     "text": [
      "1\n",
      "8\n"
     ]
    }
   ],
   "source": [
    "print(arr[0]) # index-by 0\n",
    "#print(arr[4]) # Error!\n",
    "print(arr[-1]) # last element"
   ]
  },
  {
   "cell_type": "markdown",
   "metadata": {},
   "source": [
    "### Slicing + Ranges"
   ]
  },
  {
   "cell_type": "code",
   "execution_count": 80,
   "metadata": {},
   "outputs": [
    {
     "name": "stdout",
     "output_type": "stream",
     "text": [
      "[23, 6]\n"
     ]
    }
   ],
   "source": [
    "# Slices the 1th through 3rd (non-inclusive)\n",
    "print(arr[1:3])"
   ]
  },
  {
   "cell_type": "code",
   "execution_count": 86,
   "metadata": {},
   "outputs": [
    {
     "name": "stdout",
     "output_type": "stream",
     "text": [
      "[1, 2, 3, 4, 5, 6, 7, 8, 9, 10, 11, 12, 13, 14, 15, 16, 17, 18, 19, 20, 21, 22, 23, 24, 25, 26, 27, 28, 29, 30, 31, 32, 33, 34, 35, 36, 37, 38, 39, 40, 41, 42, 43, 44, 45, 46, 47, 48, 49, 50, 51, 52, 53, 54, 55, 56, 57, 58, 59, 60, 61, 62, 63, 64, 65, 66, 67, 68, 69, 70, 71, 72, 73, 74, 75, 76, 77, 78, 79, 80, 81, 82, 83, 84, 85, 86, 87, 88, 89, 90, 91, 92, 93, 94, 95, 96, 97, 98, 99]\n"
     ]
    }
   ],
   "source": [
    "# the \"range\" function returns an interator from the start to the end, with an optional step\n",
    "arr = list(range(1,100)) # make a range and convert to a list\n",
    "print(arr)"
   ]
  },
  {
   "cell_type": "code",
   "execution_count": 91,
   "metadata": {},
   "outputs": [
    {
     "name": "stdout",
     "output_type": "stream",
     "text": [
      "13\n",
      "[11, 13, 15, 17, 19]\n"
     ]
    }
   ],
   "source": [
    "print(arr[12])\n",
    "print(arr[10:20:2]) # add in a step-size/stride at the end"
   ]
  },
  {
   "cell_type": "markdown",
   "metadata": {},
   "source": [
    "### List comprehension"
   ]
  },
  {
   "cell_type": "code",
   "execution_count": 100,
   "metadata": {},
   "outputs": [
    {
     "name": "stdout",
     "output_type": "stream",
     "text": [
      "[1, 4, 9, 16, 25, 36, 49, 64, 81, 100, 121, 144, 169, 196, 225, 256, 289, 324, 361]\n"
     ]
    }
   ],
   "source": [
    "arr = [i*i for i in range(1,20)] # memory-efficient because range() doesn't construct a list\n",
    "print(arr)"
   ]
  },
  {
   "cell_type": "code",
   "execution_count": 105,
   "metadata": {},
   "outputs": [
    {
     "data": {
      "text/plain": [
       "[2,\n",
       " 8,\n",
       " 18,\n",
       " 32,\n",
       " 50,\n",
       " 72,\n",
       " 98,\n",
       " 128,\n",
       " 162,\n",
       " 200,\n",
       " 242,\n",
       " 288,\n",
       " 338,\n",
       " 392,\n",
       " 450,\n",
       " 512,\n",
       " 578,\n",
       " 648,\n",
       " 722]"
      ]
     },
     "execution_count": 105,
     "metadata": {},
     "output_type": "execute_result"
    }
   ],
   "source": [
    "# Says: \"compute i*2 for every i in arr\"\n",
    "[i*2 for i in arr]"
   ]
  },
  {
   "cell_type": "code",
   "execution_count": 102,
   "metadata": {},
   "outputs": [
    {
     "name": "stdout",
     "output_type": "stream",
     "text": [
      "arr[0] = 1\n",
      "arr[1] = 4\n",
      "arr[2] = 9\n",
      "arr[3] = 16\n",
      "arr[4] = 25\n",
      "arr[5] = 36\n",
      "arr[6] = 49\n",
      "arr[7] = 64\n",
      "arr[8] = 81\n",
      "arr[9] = 100\n",
      "arr[10] = 121\n",
      "arr[11] = 144\n",
      "arr[12] = 169\n",
      "arr[13] = 196\n",
      "arr[14] = 225\n",
      "arr[15] = 256\n",
      "arr[16] = 289\n",
      "arr[17] = 324\n",
      "arr[18] = 361\n"
     ]
    }
   ],
   "source": [
    "for i in range(0,len(arr)):\n",
    "    print(f\"arr[{i}] = {arr[i]}\"\")"
   ]
  },
  {
   "cell_type": "code",
   "execution_count": 107,
   "metadata": {},
   "outputs": [
    {
     "name": "stdout",
     "output_type": "stream",
     "text": [
      "[1, 4, 9, 16, 25, 36, 49, 64, 81, 100, 121, 144, 169, 196, 225, 256, 289, 324, 361]\n"
     ]
    },
    {
     "data": {
      "text/plain": [
       "[8, 32, 72, 128, 200, 288, 392, 512, 648]"
      ]
     },
     "execution_count": 107,
     "metadata": {},
     "output_type": "execute_result"
    }
   ],
   "source": [
    "print(arr)\n",
    "# computes i*2 for all the even elements of arr\n",
    "[i*2 for i in arr if i % 2 is 0]"
   ]
  },
  {
   "cell_type": "markdown",
   "metadata": {},
   "source": [
    "### Dictionaries\n",
    "\n",
    "A dictionary is a \"key/value\" store.\n",
    "So we can put pretty much any data inside, as long as it's \"hashable\".\n",
    "Underneath (if you've taken COSC 320) is a hash table!"
   ]
  },
  {
   "cell_type": "code",
   "execution_count": 124,
   "metadata": {},
   "outputs": [
    {
     "name": "stdout",
     "output_type": "stream",
     "text": [
      "{2: 'two', 'two': 100, 3: [1, 2, 4], '*': {'sub-1': 1, 'sub-2': 2}, 4: {'a': 1, 'b': 2}}\n",
      "two\n",
      "100\n",
      "100\n",
      "1\n",
      "[1, 2, 4]\n",
      "2\n"
     ]
    }
   ],
   "source": [
    "# Declare dictionary with { }\n",
    "j = {\"a\": 1, \"b\": 2}\n",
    "d = {\n",
    "    2: \"two\",\n",
    "    \"two\": 100,\n",
    "    3: [1, 2, 4],\n",
    "    \"*\": {\n",
    "        \"sub-1\": 1,\n",
    "        \"sub-2\": 2,\n",
    "    },\n",
    "    4: j,\n",
    "}\n",
    "print(d)\n",
    "print(d[2])\n",
    "print(d[\"two\"])\n",
    "print(d[d[2]])\n",
    "print(d[\"*\"][\"sub-1\"])\n",
    "print(d[3])\n",
    "print(d[3][1])"
   ]
  },
  {
   "cell_type": "code",
   "execution_count": 127,
   "metadata": {},
   "outputs": [
    {
     "name": "stdout",
     "output_type": "stream",
     "text": [
      "{'a': 1, 'b': 5}\n",
      "{2: 'two', 'two': 100, 3: [1, 2, 4], '*': {'sub-1': 1, 'sub-2': 2}, 4: {'a': 1, 'b': 5}}\n"
     ]
    }
   ],
   "source": [
    "j['b'] = 5\n",
    "# Note that j['b'] is changed in both places: it must be a reference inside d!\n",
    "print(j)\n",
    "print(d)"
   ]
  },
  {
   "cell_type": "code",
   "execution_count": 159,
   "metadata": {},
   "outputs": [
    {
     "name": "stdout",
     "output_type": "stream",
     "text": [
      "[{'id': 0, 'name': 'Person 0'}, {'id': 1, 'name': 'Person 1'}, {'id': 2, 'name': 'Person 2'}, {'id': 3, 'name': 'Person 3'}, {'id': 4, 'name': 'Person 4'}, {'id': 5, 'name': 'Person 5'}, {'id': 6, 'name': 'Person 6'}, {'id': 7, 'name': 'Person 7'}, {'id': 8, 'name': 'Person 8'}, {'id': 9, 'name': 'Person 9'}]\n"
     ]
    }
   ],
   "source": [
    "database = [{\"id\": i, \"name\": f\"Person {i}\"} for i in range(0,10)]\n",
    "print(database)"
   ]
  },
  {
   "cell_type": "code",
   "execution_count": 136,
   "metadata": {},
   "outputs": [],
   "source": [
    "def myFunction(param1, param2):\n",
    "    print(f\"Got parameters {param1} and {param2}\")"
   ]
  },
  {
   "cell_type": "code",
   "execution_count": 137,
   "metadata": {},
   "outputs": [
    {
     "name": "stdout",
     "output_type": "stream",
     "text": [
      "Got parameters 4 and [{'id': 1, 'name': 'person 1'}, {'id': 2, 'name': 'person 2'}]\n"
     ]
    }
   ],
   "source": [
    "myFunction(4,database)"
   ]
  },
  {
   "cell_type": "code",
   "execution_count": 138,
   "metadata": {},
   "outputs": [],
   "source": [
    "def double(arr):\n",
    "    return [i*2 for i in arr]"
   ]
  },
  {
   "cell_type": "code",
   "execution_count": 140,
   "metadata": {},
   "outputs": [
    {
     "name": "stdout",
     "output_type": "stream",
     "text": [
      "[1, 4, 9, 16, 25, 36, 49, 64, 81, 100, 121, 144, 169, 196, 225, 256, 289, 324, 361]\n",
      "[2, 8, 18, 32, 50, 72, 98, 128, 162, 200, 242, 288, 338, 392, 450, 512, 578, 648, 722]\n"
     ]
    }
   ],
   "source": [
    "print(arr)\n",
    "print(double(arr))"
   ]
  },
  {
   "cell_type": "code",
   "execution_count": 141,
   "metadata": {},
   "outputs": [
    {
     "name": "stdout",
     "output_type": "stream",
     "text": [
      "{2: 'two', 'two': 100, 3: [1, 2, 4], '*': {'sub-1': 1, 'sub-2': 2}, 4: {'a': 1, 'b': 5}}\n"
     ]
    }
   ],
   "source": [
    "print(d)"
   ]
  },
  {
   "cell_type": "code",
   "execution_count": 149,
   "metadata": {},
   "outputs": [
    {
     "name": "stdout",
     "output_type": "stream",
     "text": [
      "2\n",
      "two\n",
      "two\n",
      "100\n",
      "3\n",
      "[1, 2, 4]\n",
      "*\n",
      "{'sub-1': 1, 'sub-2': 2}\n",
      "4\n",
      "{'a': 1, 'b': 5}\n"
     ]
    }
   ],
   "source": [
    "for item in d:\n",
    "    print(item)\n",
    "    print(d[item])"
   ]
  },
  {
   "cell_type": "code",
   "execution_count": 150,
   "metadata": {},
   "outputs": [
    {
     "name": "stdout",
     "output_type": "stream",
     "text": [
      "[{'id': 1, 'name': 'person 1'}, {'id': 2, 'name': 'person 2'}]\n"
     ]
    }
   ],
   "source": [
    "print(database)"
   ]
  },
  {
   "cell_type": "code",
   "execution_count": 160,
   "metadata": {},
   "outputs": [
    {
     "data": {
      "text/plain": [
       "[{'id': 4, 'name': 'Person 4'}]"
      ]
     },
     "execution_count": 160,
     "metadata": {},
     "output_type": "execute_result"
    }
   ],
   "source": [
    "[item for item in database if item['id'] is 4] # \"extract\" the item with id = 1 0, 'name': 'Person 0'},\n",
    " {'id': 2, 'name': 'Person 2'},\n",
    " {'id': 4, 'name': 'Person 4'},\n",
    " {'id': 6, 'name': 'Person 6'},\n",
    " {'id': 8, 'name': 'Perso"
   ]
  },
  {
   "cell_type": "code",
   "execution_count": 161,
   "metadata": {},
   "outputs": [
    {
     "data": {
      "text/plain": [
       "[{'id': 0, 'name': 'Person 0'},\n",
       " {'id': 1, 'name': 'Person 1'},\n",
       " {'id': 2, 'name': 'Person 2'},\n",
       " {'id': 3, 'name': 'Person 3'},\n",
       " {'id': 4, 'name': 'Person 4'},\n",
       " {'id': 5, 'name': 'Person 5'},\n",
       " {'id': 6, 'name': 'Person 6'},\n",
       " {'id': 7, 'name': 'Person 7'},\n",
       " {'id': 8, 'name': 'Person 8'},\n",
       " {'id': 9, 'name': 'Person 9'}]"
      ]
     },
     "execution_count": 161,
     "metadata": {},
     "output_type": "execute_result"
    }
   ],
   "source": [
    "[item for item in database]"
   ]
  },
  {
   "cell_type": "code",
   "execution_count": 169,
   "metadata": {},
   "outputs": [
    {
     "data": {
      "text/plain": [
       "[]"
      ]
     },
     "execution_count": 169,
     "metadata": {},
     "output_type": "execute_result"
    }
   ],
   "source": [
    "[item for item in database if item['id'] % 2 == 50]"
   ]
  },
  {
   "cell_type": "code",
   "execution_count": 180,
   "metadata": {},
   "outputs": [],
   "source": [
    "result = []\n",
    "if result is []:\n",
    "    print(\"result is empty\")"
   ]
  },
  {
   "cell_type": "code",
   "execution_count": 181,
   "metadata": {},
   "outputs": [
    {
     "data": {
      "text/plain": [
       "False"
      ]
     },
     "execution_count": 181,
     "metadata": {},
     "output_type": "execute_result"
    }
   ],
   "source": [
    " 0, 'name': 'Person 0'},\n",
    " {'id': 2, 'name': 'Person 2'},\n",
    " {'id': 4, 'name': 'Person 4'},\n",
    " {'id': 6, 'name': 'Person 6'},\n",
    " {'id': 8, 'name': 'Persoresult is []"
   ]
  },
  {
   "cell_type": "code",
   "execution_count": 182,
   "metadata": {},
   "outputs": [
    {
     "data": {
      "text/plain": [
       "True"
      ]
     },
     "execution_count": 182,
     "metadata": {},
     "output_type": "execute_result"
    }
   ],
   "source": [
    " 0, 'name': 'Person 0'},\n",
    " {'id': 2, 'name': 'Person 2'},\n",
    " {'id': 4, 'name': 'Person 4'},\n",
    " {'id': 6, 'name': 'Person 6'},\n",
    " {'id': 8, 'name': 'Persoresult == []"
   ]
  },
  {
   "cell_type": "code",
   "execution_count": 183,
   "metadata": {},
   "outputs": [
    {
     "data": {
      "text/plain": [
       "0"
      ]
     },
     "execution_count": 183,
     "metadata": {},
     "output_type": "execute_result"
    }
   ],
   "source": [
    "len(result)"
   ]
  },
  {
   "cell_type": "code",
   "execution_count": 189,
   "metadata": {},
   "outputs": [],
   "source": [
    "a = \"some text\"\n",
    "b = \"some text\""
   ]
  },
  {
   "cell_type": "code",
   "execution_count": 187,
   "metadata": {},
   "outputs": [
    {
     "data": {
      "text/plain": [
       "True"
      ]
     },
     "execution_count": 187,
     "metadata": {},
     "output_type": "execute_result"
    }
   ],
   "source": [
    "a == b"
   ]
  },
  {
   "cell_type": "code",
   "execution_count": 188,
   "metadata": {},
   "outputs": [
    {
     "data": {
      "text/plain": [
       "False"
      ]
     },
     "execution_count": 188,
     "metadata": {},
     "output_type": "execute_result"
    }
   ],
   "source": [
    "a is b"
   ]
  },
  {
   "cell_type": "code",
   "execution_count": null,
   "metadata": {},
   "outputs": [],
   "source": []
  }
 ],
 "metadata": {
  "kernelspec": {
   "display_name": "Python 3",
   "language": "python",
   "name": "python3"
  },
  "language_info": {
   "codemirror_mode": {
    "name": "ipython",
    "version": 3
   },
   "file_extension": ".py",
   "mimetype": "text/x-python",
   "name": "python",
   "nbconvert_exporter": "python",
   "pygments_lexer": "ipython3",
   "version": "3.6.7"
  }
 },
 "nbformat": 4,
 "nbformat_minor": 2
}

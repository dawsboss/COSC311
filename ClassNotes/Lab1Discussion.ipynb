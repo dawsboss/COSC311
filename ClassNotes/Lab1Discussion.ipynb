{
 "cells": [
  {
   "cell_type": "code",
   "execution_count": 5,
   "metadata": {},
   "outputs": [
    {
     "name": "stdout",
     "output_type": "stream",
     "text": [
      "[{'id': 0, 'name': 'Person 0'}, {'id': 1, 'name': 'Person 1'}, {'id': 2, 'name': 'Person 2'}, {'id': 3, 'name': 'Person 3'}, {'id': 4, 'name': 'Person 4'}, {'id': 5, 'name': 'Person 5'}, {'id': 6, 'name': 'Person 6'}, {'id': 7, 'name': 'Person 7'}, {'id': 8, 'name': 'Person 8'}, {'id': 9, 'name': 'Person 9'}]\n"
     ]
    }
   ],
   "source": [
    "people = [{\"id\": i, \"name\": f\"Person {i}\"} for i in range(0,10)] # list comprehension to generate a list of people dictionaries"
   ]
  },
  {
   "cell_type": "code",
   "execution_count": 7,
   "metadata": {},
   "outputs": [
    {
     "data": {
      "text/plain": [
       "[{'id': 0, 'name': 'Person 0'},\n",
       " {'id': 1, 'name': 'Person 1'},\n",
       " {'id': 2, 'name': 'Person 2'},\n",
       " {'id': 3, 'name': 'Person 3'},\n",
       " {'id': 4, 'name': 'Person 4'},\n",
       " {'id': 5, 'name': 'Person 5'},\n",
       " {'id': 6, 'name': 'Person 6'},\n",
       " {'id': 7, 'name': 'Person 7'},\n",
       " {'id': 8, 'name': 'Person 8'},\n",
       " {'id': 9, 'name': 'Person 9'}]"
      ]
     },
     "execution_count": 7,
     "metadata": {},
     "output_type": "execute_result"
    }
   ],
   "source": [
    "people"
   ]
  },
  {
   "cell_type": "markdown",
   "metadata": {},
   "source": [
    "Note about this:\n",
    "- a list of dictionaries\n",
    "- each dictionary has the same two (str) keys: \"id\" and \"name\"\n",
    "- i.e. they are homogeneous structures\n",
    "- in C, this could an array of structs:\n",
    "\n",
    "```\n",
    "struct person{\n",
    "    int id;\n",
    "    string name;\n",
    "}\n",
    "\n",
    "person people[10];\n",
    "```"
   ]
  },
  {
   "cell_type": "code",
   "execution_count": 3,
   "metadata": {},
   "outputs": [],
   "source": [
    "songs =[{\"id\": i, \"name\": f\"Song {i}\"} for i in range(0,5)]"
   ]
  },
  {
   "cell_type": "code",
   "execution_count": 6,
   "metadata": {},
   "outputs": [
    {
     "data": {
      "text/plain": [
       "[{'id': 0, 'name': 'Song 0'},\n",
       " {'id': 1, 'name': 'Song 1'},\n",
       " {'id': 2, 'name': 'Song 2'},\n",
       " {'id': 3, 'name': 'Song 3'},\n",
       " {'id': 4, 'name': 'Song 4'}]"
      ]
     },
     "execution_count": 6,
     "metadata": {},
     "output_type": "execute_result"
    }
   ],
   "source": [
    "songs"
   ]
  },
  {
   "cell_type": "code",
   "execution_count": 18,
   "metadata": {},
   "outputs": [
    {
     "name": "stdout",
     "output_type": "stream",
     "text": [
      "100\n",
      "[(0, 0), (0, 1), (0, 2), (0, 3), (0, 4), (0, 5), (0, 6), (0, 7), (0, 8), (0, 9), (1, 0), (1, 1), (1, 2), (1, 3), (1, 4), (1, 5), (1, 6), (1, 7), (1, 8), (1, 9), (2, 0), (2, 1), (2, 2), (2, 3), (2, 4), (2, 5), (2, 6), (2, 7), (2, 8), (2, 9), (3, 0), (3, 1), (3, 2), (3, 3), (3, 4), (3, 5), (3, 6), (3, 7), (3, 8), (3, 9), (4, 0), (4, 1), (4, 2), (4, 3), (4, 4), (4, 5), (4, 6), (4, 7), (4, 8), (4, 9), (5, 0), (5, 1), (5, 2), (5, 3), (5, 4), (5, 5), (5, 6), (5, 7), (5, 8), (5, 9), (6, 0), (6, 1), (6, 2), (6, 3), (6, 4), (6, 5), (6, 6), (6, 7), (6, 8), (6, 9), (7, 0), (7, 1), (7, 2), (7, 3), (7, 4), (7, 5), (7, 6), (7, 7), (7, 8), (7, 9), (8, 0), (8, 1), (8, 2), (8, 3), (8, 4), (8, 5), (8, 6), (8, 7), (8, 8), (8, 9), (9, 0), (9, 1), (9, 2), (9, 3), (9, 4), (9, 5), (9, 6), (9, 7), (9, 8), (9, 9)]\n"
     ]
    }
   ],
   "source": [
    "pairs = [(x,y) for x in range(0,10) for y in range(0,10)]\n",
    "print(len(pairs))\n",
    "print(pairs)"
   ]
  },
  {
   "cell_type": "markdown",
   "metadata": {},
   "source": [
    "Above is like:\n",
    "    ```\n",
    "    for x = 0 to 10\n",
    "        for y = 0 to 10\n",
    "            get (x,y)\n",
    "    ```"
   ]
  },
  {
   "cell_type": "code",
   "execution_count": 11,
   "metadata": {},
   "outputs": [],
   "source": [
    "people_songs = [(0,0), (0,1), (1,1), (1,2), (1,3)]"
   ]
  },
  {
   "cell_type": "code",
   "execution_count": 12,
   "metadata": {},
   "outputs": [
    {
     "data": {
      "text/plain": [
       "[(0, 0), (0, 1), (1, 1), (1, 2), (1, 3)]"
      ]
     },
     "execution_count": 12,
     "metadata": {},
     "output_type": "execute_result"
    }
   ],
   "source": [
    "people_songs"
   ]
  },
  {
   "cell_type": "markdown",
   "metadata": {},
   "source": [
    "Looking for: a list of names who share a specific song with artist ID 1"
   ]
  },
  {
   "cell_type": "code",
   "execution_count": 23,
   "metadata": {},
   "outputs": [
    {
     "data": {
      "text/plain": [
       "['Person 0', 'Person 1']"
      ]
     },
     "execution_count": 23,
     "metadata": {},
     "output_type": "execute_result"
    }
   ],
   "source": [
    "[p['name'] \n",
    " for s in people_songs if s[1] == 1\n",
    " for p in people if p['id'] == s[0]]"
   ]
  },
  {
   "cell_type": "markdown",
   "metadata": {},
   "source": [
    "Like doing:\n",
    "```\n",
    "for s in people_songs\n",
    "    if s[1] == 1\n",
    "        for p in people\n",
    "            if p['id'] == s[0] # check person's id\n",
    "                remember p\n",
    "```"
   ]
  },
  {
   "cell_type": "code",
   "execution_count": 28,
   "metadata": {},
   "outputs": [],
   "source": [
    "def people_sharing_with_person(p_id):\n",
    "    return [p['name'] \n",
    "     for s in people_songs if s[1] == p_id \n",
    "     for p in people if p['id'] == s[0] and p['id'] != p_id] # filter out the OG artist"
   ]
  },
  {
   "cell_type": "code",
   "execution_count": 29,
   "metadata": {},
   "outputs": [
    {
     "data": {
      "text/plain": [
       "['Person 0']"
      ]
     },
     "execution_count": 29,
     "metadata": {},
     "output_type": "execute_result"
    }
   ],
   "source": [
    "people_sharing_with_person(1)"
   ]
  },
  {
   "cell_type": "code",
   "execution_count": 33,
   "metadata": {},
   "outputs": [],
   "source": [
    "def people_sharing_by_name(name):\n",
    "    query_id = [person['id'] for person in people if person['name'] == name][0] # get a list of one item, then extract the first\n",
    "    return people_sharing_with_person(query_id)"
   ]
  },
  {
   "cell_type": "code",
   "execution_count": 34,
   "metadata": {},
   "outputs": [
    {
     "data": {
      "text/plain": [
       "['Person 0']"
      ]
     },
     "execution_count": 34,
     "metadata": {},
     "output_type": "execute_result"
    }
   ],
   "source": [
    "people_sharing_by_name('Person 1')"
   ]
  },
  {
   "cell_type": "code",
   "execution_count": 43,
   "metadata": {},
   "outputs": [
    {
     "name": "stdout",
     "output_type": "stream",
     "text": [
      "['Person 0', 'Person 1']\n"
     ]
    }
   ],
   "source": [
    "result = [] # start with empty list\n",
    "for s in people_songs:\n",
    "    if s[1] == 1:\n",
    "        for p in people:\n",
    "            if p['id'] == s[0]:\n",
    "                #result = result + [p['name']] # will append p to result list\n",
    "                #result.append(p['name'])\n",
    "                result.extend([p['name']])\n",
    "print(result)"
   ]
  },
  {
   "cell_type": "code",
   "execution_count": 41,
   "metadata": {},
   "outputs": [
    {
     "data": {
      "text/plain": [
       "['Person 0', 'Person 1']"
      ]
     },
     "execution_count": 41,
     "metadata": {},
     "output_type": "execute_result"
    }
   ],
   "source": [
    "result"
   ]
  },
  {
   "cell_type": "code",
   "execution_count": 39,
   "metadata": {},
   "outputs": [
    {
     "data": {
      "text/plain": [
       "[1, 2, 3, 4, 5, 6]"
      ]
     },
     "execution_count": 39,
     "metadata": {},
     "output_type": "execute_result"
    }
   ],
   "source": [
    "[1,2,3] + [4,5,6]"
   ]
  },
  {
   "cell_type": "code",
   "execution_count": null,
   "metadata": {},
   "outputs": [],
   "source": []
  }
 ],
 "metadata": {
  "kernelspec": {
   "display_name": "Python 3",
   "language": "python",
   "name": "python3"
  },
  "language_info": {
   "codemirror_mode": {
    "name": "ipython",
    "version": 3
   },
   "file_extension": ".py",
   "mimetype": "text/x-python",
   "name": "python",
   "nbconvert_exporter": "python",
   "pygments_lexer": "ipython3",
   "version": "3.6.7"
  }
 },
 "nbformat": 4,
 "nbformat_minor": 2
}

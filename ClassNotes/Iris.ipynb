{
 "cells": [
  {
   "cell_type": "code",
   "execution_count": 1,
   "metadata": {},
   "outputs": [],
   "source": [
    "import pandas as pd\n",
    "import numpy as np\n",
    "import math\n",
    "from matplotlib import pyplot as plt"
   ]
  },
  {
   "cell_type": "code",
   "execution_count": 9,
   "metadata": {},
   "outputs": [],
   "source": [
    "iris = pd.read_csv('data/iris.data', header=None, names=['sepal_l', 'sepal_w', 'petal_l', 'petal_w', 'class'])"
   ]
  },
  {
   "cell_type": "code",
   "execution_count": 14,
   "metadata": {},
   "outputs": [
    {
     "data": {
      "text/plain": [
       "0.067385568297780307"
      ]
     },
     "execution_count": 14,
     "metadata": {},
     "output_type": "execute_result"
    }
   ],
   "source": [
    "np.std(iris['sepal_l'].values)/np.sqrt(len(iris['sepal_l']))"
   ]
  },
  {
   "cell_type": "markdown",
   "metadata": {},
   "source": [
    "# Bootstrapping an estimator\n",
    "\n",
    "Idea: when we have finite or limited data, use sub-sampling to \"pretend\" that we can draw more observations. Example, calculating an $\\sigma_{\\bar{x}}$ of 1000 data points, draw 200 of them randomly with replacement 50 times. For each one, calculate the $\\bar{x}$ and then use these 50 $\\bar{x}$'s for an empirical $\\sigma_{\\bar{x}}$."
   ]
  },
  {
   "cell_type": "code",
   "execution_count": 17,
   "metadata": {},
   "outputs": [],
   "source": [
    "# Boot-strapping an estimator\n",
    "def meanconf95(data):\n",
    "    num = int(len(data)/4)\n",
    "    xbars = [ np.mean(np.random.choice(data, num, replace=True)) for _ in range(0,50)]\n",
    "    return 1.96*np.std(xbars)"
   ]
  },
  {
   "cell_type": "code",
   "execution_count": 18,
   "metadata": {},
   "outputs": [
    {
     "data": {
      "text/plain": [
       "0.25265831389300247"
      ]
     },
     "execution_count": 18,
     "metadata": {},
     "output_type": "execute_result"
    }
   ],
   "source": [
    "meanconf95(iris['sepal_l'].values)"
   ]
  },
  {
   "cell_type": "code",
   "execution_count": 21,
   "metadata": {},
   "outputs": [
    {
     "data": {
      "text/plain": [
       "<matplotlib.axes._subplots.AxesSubplot at 0x7f5146fca1d0>"
      ]
     },
     "execution_count": 21,
     "metadata": {},
     "output_type": "execute_result"
    },
    {
     "data": {
      "image/png": "[encoded data removed]",
      "text/plain": [
       "<Figure size 432x288 with 1 Axes>"
      ]
     },
     "metadata": {
      "needs_background": "light"
     },
     "output_type": "display_data"
    }
   ],
   "source": [
    "iris[['sepal_l', 'sepal_w']].plot.scatter(x='sepal_l', y='sepal_w')"
   ]
  },
  {
   "cell_type": "code",
   "execution_count": 22,
   "metadata": {},
   "outputs": [],
   "source": [
    "X = iris['sepal_l'].values\n",
    "Y = iris['sepal_w'].values"
   ]
  },
  {
   "cell_type": "code",
   "execution_count": 27,
   "metadata": {},
   "outputs": [
    {
     "data": {
      "text/plain": [
       "(0.6811222222222223, 0.18675066666666668)"
      ]
     },
     "execution_count": 27,
     "metadata": {},
     "output_type": "execute_result"
    }
   ],
   "source": [
    "(X.std()**2, Y.std()**2)"
   ]
  },
  {
   "cell_type": "code",
   "execution_count": 32,
   "metadata": {},
   "outputs": [
    {
     "data": {
      "text/plain": [
       "array([[ 0.68569351, -0.03926846],\n",
       "       [-0.03926846,  0.18800403]])"
      ]
     },
     "execution_count": 32,
     "metadata": {},
     "output_type": "execute_result"
    }
   ],
   "source": [
    "# this gives an nxn symmetric matrix (because cov is commutative) \n",
    "# where entry (i,j) is the covariance of the ith and jth random variable\n",
    "np.cov(X,Y) "
   ]
  },
  {
   "cell_type": "code",
   "execution_count": 34,
   "metadata": {},
   "outputs": [
    {
     "data": {
      "text/plain": [
       "-0.11010327176239869"
      ]
     },
     "execution_count": 34,
     "metadata": {},
     "output_type": "execute_result"
    }
   ],
   "source": [
    "correlation_coef = np.cov(X,Y)[0,1]/(X.std()*Y.std())\n",
    "correlation_coef"
   ]
  },
  {
   "cell_type": "code",
   "execution_count": 50,
   "metadata": {},
   "outputs": [
    {
     "data": {
      "text/plain": [
       "[<matplotlib.lines.Line2D at 0x7f5146e75518>]"
      ]
     },
     "execution_count": 50,
     "metadata": {},
     "output_type": "execute_result"
    },
    {
     "data": {
      "image/png": "[encoded data removed]",
      "text/plain": [
       "<Figure size 432x288 with 1 Axes>"
      ]
     },
     "metadata": {
      "needs_background": "light"
     },
     "output_type": "display_data"
    }
   ],
   "source": [
    "X = np.arange(1,100)\n",
    "Y = 0.5*X + np.random.normal(0,1,len(X))\n",
    "plt.plot(X,Y)"
   ]
  },
  {
   "cell_type": "code",
   "execution_count": 43,
   "metadata": {},
   "outputs": [
    {
     "data": {
      "text/plain": [
       "816.66666666666674"
      ]
     },
     "execution_count": 43,
     "metadata": {},
     "output_type": "execute_result"
    }
   ],
   "source": [
    "X.std()**2"
   ]
  },
  {
   "cell_type": "code",
   "execution_count": 51,
   "metadata": {},
   "outputs": [
    {
     "data": {
      "text/plain": [
       "1.00771792740462"
      ]
     },
     "execution_count": 51,
     "metadata": {},
     "output_type": "execute_result"
    }
   ],
   "source": [
    "correlation_coef = np.cov(X,Y)[0,1]/(X.std()*Y.std())\n",
    "correlation_coef"
   ]
  },
  {
   "cell_type": "code",
   "execution_count": 49,
   "metadata": {},
   "outputs": [],
   "source": [
    "Y = np.random.normal(0,1,100)"
   ]
  },
  {
   "cell_type": "code",
   "execution_count": 45,
   "metadata": {},
   "outputs": [
    {
     "data": {
      "text/plain": [
       "array([ 0.06196944, -1.34959073,  1.43446616, -0.80386855,  0.82034946,\n",
       "       -0.38121583,  0.62498779,  1.81714404,  2.66799338,  0.4480029 ,\n",
       "       -0.70939082,  1.50725139, -1.33238475, -1.11121432, -1.9350818 ,\n",
       "        0.046049  , -0.80510359,  0.12968984, -0.85598314, -1.49491762,\n",
       "       -0.09523269, -1.33245527, -0.47106522,  0.90348639,  0.21437724,\n",
       "       -1.87826938, -1.38094075,  0.13247288, -1.51290514,  2.81592879,\n",
       "        0.63565281, -1.89352526, -1.06376489,  0.42727012, -0.37147028,\n",
       "        0.19704659, -0.50594103,  0.42117407,  1.46421752,  0.61733177,\n",
       "        1.14664628,  1.63862188, -0.45160324,  1.66497779, -0.36390314,\n",
       "       -0.12568946,  0.41959744,  0.79282889,  0.19989116,  0.47709442,\n",
       "        0.99816589,  0.67214032,  0.63237445,  0.63382376,  0.96379839,\n",
       "       -0.83078537, -0.08028865,  1.73585121, -1.06023785, -0.3280905 ,\n",
       "       -1.25741174, -1.97015684, -0.78948494,  0.99269941, -1.09071272,\n",
       "        0.0812688 , -1.55680015, -0.06753876, -0.23919904,  1.37814709,\n",
       "       -0.16503902, -1.58592237,  0.36474528,  2.23829623,  0.59202574,\n",
       "        0.41727261,  1.38721156,  0.95290466, -0.47108815,  0.25177449,\n",
       "        0.34742858,  0.01115163,  0.25130681,  1.04153997, -0.55354192,\n",
       "       -0.31441117, -0.08350755, -0.90824972,  0.22512244, -0.91899822,\n",
       "       -0.72837267,  0.55736645,  1.04318769,  0.29649903, -0.88382955,\n",
       "        1.05344409,  1.92869492,  0.20913028, -0.03483337,  0.7414502 ])"
      ]
     },
     "execution_count": 45,
     "metadata": {},
     "output_type": "execute_result"
    }
   ],
   "source": [
    "Y"
   ]
  },
  {
   "cell_type": "code",
   "execution_count": null,
   "metadata": {},
   "outputs": [],
   "source": []
  }
 ],
 "metadata": {
  "kernelspec": {
   "display_name": "Python 3",
   "language": "python",
   "name": "python3"
  },
  "language_info": {
   "codemirror_mode": {
    "name": "ipython",
    "version": 3
   },
   "file_extension": ".py",
   "mimetype": "text/x-python",
   "name": "python",
   "nbconvert_exporter": "python",
   "pygments_lexer": "ipython3",
   "version": "3.6.7"
  }
 },
 "nbformat": 4,
 "nbformat_minor": 2
}
